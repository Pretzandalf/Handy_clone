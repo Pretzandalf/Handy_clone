{
 "cells": [
  {
   "cell_type": "markdown",
   "metadata": {},
   "source": [
    "# Overview of triangulation precision dependencies\n",
    "\n",
    "This research is a part of project \"Handy\" that is conducted by HSE Robotics Groups.\n",
    "The aims of this research are the following:\n",
    "- to determine the best placement of cameras around the table\n",
    "- to measure precision fluctuations caused by various center-determing algorithms, segmentation errors and FOV\n",
    "\n",
    "Let us assume that intrinsic parameters of the cameras are known to us with ideal precision. Also, cameras' positions relative to each other \n",
    "(parameters of stereo calibration) are also known with maximum precision."
   ]
  },
  {
   "cell_type": "code",
   "execution_count": 12,
   "metadata": {},
   "outputs": [],
   "source": [
    "import numpy as np\n",
    "import matplotlib.pyplot as plt\n",
    "import cv2\n",
    "from scipy.spatial.transform import Rotation\n",
    "from scipy.ndimage import center_of_mass\n",
    "\n",
    "from typing import Tuple, List\n"
   ]
  },
  {
   "cell_type": "code",
   "execution_count": 13,
   "metadata": {},
   "outputs": [],
   "source": [
    "# let us introduce intrinsic parameters and assume that they provide zero reprojection error for an arbitrary image-world correlation\n",
    "\n",
    "IMAGE_SIZE = (1920, 1200)\n",
    "K_1 = np.array([672.2824725267757, 0, 984.0472159818853, 0, 672.6886411532304, 602.96669930345, 0, 0, 1]).reshape((3, 3))\n",
    "distortion_coefs_1 = np.array([-0.09715103386082896, 0.06788948036532018,\n",
    "                      -0.0007157453506997161, 0.0003048354358359307, -0.003636308978789861])\n",
    "K_2 = np.array([685.7143789189881, 0, 991.0247637161314, 0, 686.3020333004097, 601.2442243349392, 0, 0, 1]).reshape((3, 3))\n",
    "distortion_coefs_2 = np.array([-0.09781628655937251, 0.07153618281495966,\n",
    "                       -0.001066517414175782, 0.0004679942401339674, -0.003645360450147547])\n",
    "\n",
    "# other constant and measurements\n",
    "TABLE_LENGTH = 2.74\n",
    "TABLE_WIDTH = 1.525"
   ]
  },
  {
   "cell_type": "code",
   "execution_count": 14,
   "metadata": {},
   "outputs": [],
   "source": [
    "from typing import Any\n",
    "\n",
    "\n",
    "class Transformation:\n",
    "    def __init__(self, R, t):\n",
    "        self.R = R\n",
    "        self.t = t\n",
    "    \n",
    "    def __call__(self, point):\n",
    "        return self.R @ point + self.t\n",
    "\n",
    "    # right transformation is applied first\n",
    "    def __mult__(self, other):\n",
    "        return Transformation(self.R @ other.R, self.t + other.t)"
   ]
  },
  {
   "cell_type": "code",
   "execution_count": 17,
   "metadata": {},
   "outputs": [
    {
     "data": {
      "image/png": "[encoded data removed]",
      "text/plain": [
       "<Figure size 640x480 with 1 Axes>"
      ]
     },
     "metadata": {},
     "output_type": "display_data"
    },
    {
     "name": "stdout",
     "output_type": "stream",
     "text": [
      "[ 897.26006165 1278.1550229 ]\n"
     ]
    }
   ],
   "source": [
    "def validate_image_point(point):\n",
    "    return point[0] < 0 or point[0] >= IMAGE_SIZE[0] or point[1] < 0 or point[1] >= IMAGE_SIZE[1]\n",
    "    # raise ValueError(f\"Invalid image point coordinates: out of FOV?\")\n",
    "\n",
    "def project_point_to_image(point, transformation, camera_matrix):\n",
    "    return camera_matrix @ transformation(point)\n",
    "\n",
    "def project_sphere_to_image(center: Tuple[int], radius: int, camera_matrix: np.ndarray, world2cam) -> np.ndarray:\n",
    "    image = np.zeros(IMAGE_SIZE[::-1])\n",
    "    center = np.array(center)\n",
    "    camera_matrix_inv = np.linalg.inv(camera_matrix)\n",
    "\n",
    "    # projecting center and some edge point to approximate radius after projection\n",
    "    projected_center = camera_matrix @ center.reshape((3, 1))\n",
    "    projected_center /= projected_center[2]\n",
    "    projected_edge_point = camera_matrix @ (center + np.array([radius, 0, 0])).reshape((3, 1))\n",
    "    projected_edge_point /= projected_edge_point[2]\n",
    "    approx_projected_radius = np.linalg.norm(projected_edge_point - projected_center, ord=2)\n",
    "\n",
    "    # calculating bounding box for calculations with 1.5 margin\n",
    "    x_start = int(max(0, projected_center[0].item() - 1.5 * approx_projected_radius))\n",
    "    y_start = int(max(0, projected_center[1].item() - 1.5 * approx_projected_radius))\n",
    "    x_stop = int(min(IMAGE_SIZE[0], projected_center[0].item() + 1.5 * approx_projected_radius))\n",
    "    y_stop = int(min(IMAGE_SIZE[1], projected_center[1].item() + 1.5 * approx_projected_radius))\n",
    "\n",
    "    for x in range(x_start, x_stop):\n",
    "        for y in range(y_start, y_stop):\n",
    "            # back project image point\n",
    "            world_ray = camera_matrix_inv @ np.array([x, y, 1]).reshape(3, 1)\n",
    "            # measure distance from the sphere center\n",
    "            distance = np.linalg.norm(np.cross(world_ray.flatten(), center), ord=2) / np.linalg.norm(world_ray, ord=2)\n",
    "            # if back-projected ray intersects with the sphere, paint the pixel in the mask\n",
    "            if distance <= radius:\n",
    "                image[y, x] = 1\n",
    "    return image\n",
    "\n",
    "image = project_sphere_to_image((300, 300, 700), 100, K_1, None)\n",
    "plt.imshow(image, cmap='gray')\n",
    "plt.show()\n",
    "\n",
    "print(get_mask_centroid(image))\n",
    "            \n"
   ]
  },
  {
   "cell_type": "code",
   "execution_count": null,
   "metadata": {},
   "outputs": [],
   "source": [
    "def triangulate_position(points, world2cam, cam2cam):\n",
    "    pass"
   ]
  },
  {
   "cell_type": "code",
   "execution_count": 16,
   "metadata": {},
   "outputs": [],
   "source": [
    "def get_bbox(mask: np.ndarray) -> List[float]:\n",
    "    # x_min, y_min, x_max, y_max\n",
    "    horizontal_indicies = np.where(np.any(mask, axis=0))[0]\n",
    "    vertical_indicies = np.where(np.any(mask, axis=1))[0]\n",
    "    x1, x2 = horizontal_indicies[[0, -1]]\n",
    "    y1, y2 = vertical_indicies[[0, -1]]\n",
    "    bbox = list(map(float, [x1, y1, x2, y2]))\n",
    "    return bbox\n",
    "\n",
    "def get_mask_center(mask):\n",
    "    bbox = get_bbox(mask)\n",
    "    centroid_x = (bbox[0] + bbox[2]) / 2\n",
    "    centroid_y = (bbox[1] + bbox[3]) / 2\n",
    "    return (centroid_x, centroid_y)\n",
    "\n",
    "\n",
    "def get_mask_centroid(mask):\n",
    "    return np.array(center_of_mass(mask))"
   ]
  },
  {
   "cell_type": "code",
   "execution_count": null,
   "metadata": {},
   "outputs": [],
   "source": [
    "def evaluate_precision(spheres, triangulated_points):\n",
    "    pass"
   ]
  },
  {
   "cell_type": "code",
   "execution_count": null,
   "metadata": {},
   "outputs": [],
   "source": [
    "def evaluate_camera_position(world_to_master: Transformation, master_to_second: Transformation):\n",
    "    pass"
   ]
  }
 ],
 "metadata": {
  "kernelspec": {
   "display_name": "Python 3",
   "language": "python",
   "name": "python3"
  },
  "language_info": {
   "codemirror_mode": {
    "name": "ipython",
    "version": 3
   },
   "file_extension": ".py",
   "mimetype": "text/x-python",
   "name": "python",
   "nbconvert_exporter": "python",
   "pygments_lexer": "ipython3",
   "version": "3.10.12"
  }
 },
 "nbformat": 4,
 "nbformat_minor": 2
}
