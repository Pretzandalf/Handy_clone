{
 "cells": [
  {
   "cell_type": "markdown",
   "metadata": {},
   "source": [
    "# Overview of triangulation precision dependencies\n",
    "\n",
    "This research is a part of project \"Handy\" that is conducted by HSE Robotics Groups.\n",
    "The aims of this research are the following:\n",
    "- to determine the best placement of cameras around the table\n",
    "- to measure precision fluctuations caused by various center-determing algorithms, segmentation errors and FOV\n",
    "\n",
    "Let us assume that intrinsic parameters of the cameras are known to us with ideal precision. Also, cameras' positions relative to each other \n",
    "(parameters of stereo calibration) are also known with maximum precision."
   ]
  },
  {
   "cell_type": "code",
   "execution_count": null,
   "metadata": {},
   "outputs": [],
   "source": [
    "import numpy as np\n",
    "import matplotlib.pyplot as plt\n",
    "import cv2\n",
    "from scipy.spatial.transform import Rotation\n"
   ]
  },
  {
   "cell_type": "code",
   "execution_count": null,
   "metadata": {},
   "outputs": [],
   "source": [
    "# let us introduce intrinsic parameters and assume that they provide zero reprojection error for an arbitrary image-world correlation\n",
    "\n",
    "IMAGE_SIZE = (1920, 1200)\n",
    "K_1 = [672.2824725267757, 0, 984.0472159818853, 0, 672.6886411532304, 602.96669930345, 0, 0, 1]\n",
    "distortion_coefs_1 = [-0.09715103386082896, 0.06788948036532018,\n",
    "                      -0.0007157453506997161, 0.0003048354358359307, -0.003636308978789861]\n",
    "K_2 = [685.7143789189881, 0, 991.0247637161314, 0, 686.3020333004097, 601.2442243349392, 0, 0, 1]\n",
    "distortion_coefs_2 = [-0.09781628655937251, 0.07153618281495966,\n",
    "                       -0.001066517414175782, 0.0004679942401339674, -0.003645360450147547]\n",
    "\n",
    "# other constant and measurements\n",
    "TABLE_LENGTH = 2.74\n",
    "TABLE_WIDTH = 1.525"
   ]
  },
  {
   "cell_type": "code",
   "execution_count": null,
   "metadata": {},
   "outputs": [],
   "source": [
    "def display_scene():\n",
    "    pass"
   ]
  }
 ],
 "metadata": {
  "kernelspec": {
   "display_name": "Python 3",
   "language": "python",
   "name": "python3"
  },
  "language_info": {
   "name": "python",
   "version": "3.10.12"
  }
 },
 "nbformat": 4,
 "nbformat_minor": 2
}
